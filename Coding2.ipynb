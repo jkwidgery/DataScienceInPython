{
 "cells": [
  {
   "cell_type": "code",
   "execution_count": 8,
   "id": "627606bf-901d-4a06-b8f8-1491d1053175",
   "metadata": {},
   "outputs": [
    {
     "name": "stdin",
     "output_type": "stream",
     "text": [
      "Which test would you like to run? \n",
      "1. Estimate PI \n",
      "2. Confidence Intervals \n",
      "3. Correlation\n",
      " 2\n"
     ]
    },
    {
     "name": "stdout",
     "output_type": "stream",
     "text": [
      "You chose 2, Confidence Intervals.\n"
     ]
    },
    {
     "name": "stdin",
     "output_type": "stream",
     "text": [
      "Input probability of success p:  .1\n"
     ]
    },
    {
     "name": "stdout",
     "output_type": "stream",
     "text": [
      "Num trials where probability was in CI: 99\n"
     ]
    },
    {
     "name": "stdin",
     "output_type": "stream",
     "text": [
      "If you'd like to play another game, you must exit and relaunch the program.\n",
      "Press 'Enter' to exit. \n"
     ]
    }
   ],
   "source": [
    "#Coding Assignment 2\n",
    "#MAT340 Spring 2024 Vermessi\n",
    "#Jasmine Widgery\n",
    "\n",
    "#IMPORTS\n",
    "import random as rand\n",
    "import math\n",
    "import numpy as np\n",
    "import pandas as pd\n",
    "#END IMPORTS\n",
    "\n",
    "prompt = \"Which test would you like to run? \\n1. Estimate PI \\n2. Confidence Intervals \\n3. Correlation\\n\"\n",
    "\n",
    "global testNumber\n",
    "try:\n",
    "    testNumber = int(input(prompt))\n",
    "except ValueError:\n",
    "       raise Exception(\"That\\'s not a number!\")\n",
    "else:\n",
    "    if testNumber not in [1, 2, 3]:\n",
    "        raise Exception(\"Please enter a value between 1 and 3.\")\n",
    "\n",
    "\n",
    "if testNumber == 1:\n",
    "##############TEST 1 - ESTIMATE PI##############\n",
    "    print(\"You chose \" + str(testNumber) + \", Estimate PI.\")\n",
    "    try:\n",
    "        numPoints = int(input(\"Please enter the number of points:\"))\n",
    "    except ValueError:\n",
    "        raise Exception(\"That\\'s not a number!\")\n",
    "\n",
    "    numInCircle = 0\n",
    "    for i in range(0, numPoints): #for every point\n",
    "        #generate point \n",
    "        x = rand.uniform(-1, 1)\n",
    "        y = rand.uniform(-1, 1)\n",
    "        #is it in unit circle\n",
    "        dist = math.sqrt(x * x + y * y)\n",
    "        if(abs(dist) <= 1):\n",
    "            numInCircle += 1\n",
    "\n",
    "    piEst = (numInCircle / numPoints) * 4\n",
    "    print(\"An estimate for PI is : \" + str(piEst))\n",
    "        \n",
    "##############END TEST 1 - ESTIMATE PI##############      \n",
    "\n",
    "elif testNumber == 2:\n",
    "##############TEST 2 - CONFIDENCE INTERVALS##############\n",
    "    print(\"You chose \" + str(testNumber) + \", Confidence Intervals.\")\n",
    "    try:\n",
    "        prob = float(input(\"Input probability of success p: \"))\n",
    "    except ValueError:\n",
    "        raise Exception(\"That\\'s not a number!\")\n",
    "    else:\n",
    "        if prob < 0 or prob > 1:\n",
    "            raise Exception(\"Please enter a value between 0 and 1.\")\n",
    "\n",
    "    numInCI = 0\n",
    "\n",
    "    for i in range(100):\n",
    "        numSuccesses = np.random.binomial(1, prob, 10000)\n",
    "        mean = np.mean(numSuccesses)\n",
    "\n",
    "        std_deviation = np.sqrt((mean * (1 - mean)) / 10000)\n",
    "        leftRange = mean - 2 * std_deviation\n",
    "        rightRange = mean + 2 * std_deviation\n",
    "\n",
    "        if prob >= leftRange and prob <= rightRange:\n",
    "            numInCI += 1\n",
    "    print(\"Num trials where probability was in CI: \" + str(numInCI))\n",
    "##############END TEST 2 - CONFIDENCE INTERVALS##############           \n",
    "elif testNumber == 3:\n",
    "##############TEST 3 - CORRELATION##############\n",
    "    print(\"You chose \" + str(testNumber) + \", Correlation.\") \n",
    "    dataFrame = pd.read_excel('Project2_Data.xlsx')\n",
    "    #print(dataFrame)\n",
    "    categories = [\"Midterm\", \"Homework\", \"Quiz\"]\n",
    "    highestCoeff = 0\n",
    "    strHighestCoeff = \"\"\n",
    "    yColName = \"Course Grade\"\n",
    "    for xColName in categories:\n",
    "        xCol = dataFrame[xColName].to_numpy()\n",
    "        yCol = dataFrame[yColName].to_numpy()\n",
    "        meanX = xCol.mean()\n",
    "        stddevX = xCol.std()\n",
    "        meanY = yCol.mean()\n",
    "        stddevY = yCol.std()\n",
    "        n = len(dataFrame)\n",
    "        ccNumerator = 0\n",
    "        for i in range(n):\n",
    "            ccNumerator += (xCol[i] - meanX) * (yCol[i] - meanY)\n",
    "        correlationCoefficient = ccNumerator / ((n - 1) * stddevX * stddevY)\n",
    "        if correlationCoefficient > highestCoeff:\n",
    "            highestCoeff = correlationCoefficient\n",
    "            strHighestCoeff = xColName\n",
    "        print(\"Given x = \" + xColName + \", \" + \"y = \" + yColName)\n",
    "        print(\"X sample mean: \" + str(meanX))\n",
    "        print(\"Y sample mean: \" + str(meanY))\n",
    "        print(\"X sample std dev: \" + str(stddevX))\n",
    "        print(\"Y sample std dev: \" + str(stddevY))\n",
    "        print(\"Correlation Coefficient: \" + str(correlationCoefficient))\n",
    "    print(\"Best predictor is \" + strHighestCoeff)\n",
    "\n",
    "\n",
    "##############END TEST 3 - CORRELATION##############     \n",
    "exit = input(\"If you'd like to play another game, you must exit and relaunch the program.\\nPress 'Enter' to exit.\") \n",
    "    "
   ]
  },
  {
   "cell_type": "code",
   "execution_count": null,
   "id": "124d132c-0264-42f8-9d8b-2fc851eb95b2",
   "metadata": {},
   "outputs": [],
   "source": []
  }
 ],
 "metadata": {
  "kernelspec": {
   "display_name": "Python 3 (ipykernel)",
   "language": "python",
   "name": "python3"
  },
  "language_info": {
   "codemirror_mode": {
    "name": "ipython",
    "version": 3
   },
   "file_extension": ".py",
   "mimetype": "text/x-python",
   "name": "python",
   "nbconvert_exporter": "python",
   "pygments_lexer": "ipython3",
   "version": "3.11.7"
  }
 },
 "nbformat": 4,
 "nbformat_minor": 5
}
